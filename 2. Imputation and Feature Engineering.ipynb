{
 "cells": [
  {
   "cell_type": "markdown",
   "metadata": {},
   "source": [
    "# Housing Feature Exploration and Processing"
   ]
  },
  {
   "cell_type": "markdown",
   "metadata": {},
   "source": [
    "## Import Packages and Load dataset"
   ]
  },
  {
   "cell_type": "code",
   "execution_count": 1,
   "metadata": {},
   "outputs": [],
   "source": [
    "# Import\n",
    "import pandas as pd\n",
    "import numpy as np\n",
    "import matplotlib.pyplot as plt\n",
    "import seaborn as sns\n",
    "from scipy import stats\n",
    "from scipy.stats import norm, skew\n",
    "from sklearn.preprocessing import LabelEncoder\n",
    "%matplotlib inline\n",
    "pd.set_option(\"display.max_columns\", 101)"
   ]
  },
  {
   "cell_type": "code",
   "execution_count": 2,
   "metadata": {},
   "outputs": [],
   "source": [
    "# Load train dataset\n",
    "df_train = pd.read_csv('./train.csv')\n",
    "df_test2 = pd.read_csv('./test.csv')"
   ]
  },
  {
   "cell_type": "markdown",
   "metadata": {},
   "source": [
    "## Overview of Dataset"
   ]
  },
  {
   "cell_type": "code",
   "execution_count": 3,
   "metadata": {},
   "outputs": [
    {
     "data": {
      "text/html": [
       "<div>\n",
       "<style scoped>\n",
       "    .dataframe tbody tr th:only-of-type {\n",
       "        vertical-align: middle;\n",
       "    }\n",
       "\n",
       "    .dataframe tbody tr th {\n",
       "        vertical-align: top;\n",
       "    }\n",
       "\n",
       "    .dataframe thead th {\n",
       "        text-align: right;\n",
       "    }\n",
       "</style>\n",
       "<table border=\"1\" class=\"dataframe\">\n",
       "  <thead>\n",
       "    <tr style=\"text-align: right;\">\n",
       "      <th></th>\n",
       "      <th>id</th>\n",
       "      <th>squareMeters</th>\n",
       "      <th>numberOfRooms</th>\n",
       "      <th>hasYard</th>\n",
       "      <th>hasPool</th>\n",
       "      <th>floors</th>\n",
       "      <th>cityCode</th>\n",
       "      <th>cityPartRange</th>\n",
       "      <th>numPrevOwners</th>\n",
       "      <th>made</th>\n",
       "      <th>isNewBuilt</th>\n",
       "      <th>hasStormProtector</th>\n",
       "      <th>basement</th>\n",
       "      <th>attic</th>\n",
       "      <th>garage</th>\n",
       "      <th>hasStorageRoom</th>\n",
       "      <th>hasGuestRoom</th>\n",
       "    </tr>\n",
       "  </thead>\n",
       "  <tbody>\n",
       "    <tr>\n",
       "      <th>5854</th>\n",
       "      <td>28584</td>\n",
       "      <td>40911</td>\n",
       "      <td>79</td>\n",
       "      <td>1</td>\n",
       "      <td>1</td>\n",
       "      <td>38</td>\n",
       "      <td>57330</td>\n",
       "      <td>8</td>\n",
       "      <td>8</td>\n",
       "      <td>2000</td>\n",
       "      <td>0</td>\n",
       "      <td>0</td>\n",
       "      <td>2074</td>\n",
       "      <td>6335</td>\n",
       "      <td>842</td>\n",
       "      <td>1</td>\n",
       "      <td>7</td>\n",
       "    </tr>\n",
       "    <tr>\n",
       "      <th>8768</th>\n",
       "      <td>31498</td>\n",
       "      <td>66169</td>\n",
       "      <td>55</td>\n",
       "      <td>0</td>\n",
       "      <td>0</td>\n",
       "      <td>66</td>\n",
       "      <td>61958</td>\n",
       "      <td>2</td>\n",
       "      <td>8</td>\n",
       "      <td>1993</td>\n",
       "      <td>0</td>\n",
       "      <td>0</td>\n",
       "      <td>3401</td>\n",
       "      <td>3120</td>\n",
       "      <td>239</td>\n",
       "      <td>0</td>\n",
       "      <td>7</td>\n",
       "    </tr>\n",
       "    <tr>\n",
       "      <th>2908</th>\n",
       "      <td>25638</td>\n",
       "      <td>38148</td>\n",
       "      <td>64</td>\n",
       "      <td>1</td>\n",
       "      <td>0</td>\n",
       "      <td>58</td>\n",
       "      <td>79444</td>\n",
       "      <td>3</td>\n",
       "      <td>5</td>\n",
       "      <td>2000</td>\n",
       "      <td>0</td>\n",
       "      <td>0</td>\n",
       "      <td>7812</td>\n",
       "      <td>6597</td>\n",
       "      <td>799</td>\n",
       "      <td>0</td>\n",
       "      <td>5</td>\n",
       "    </tr>\n",
       "    <tr>\n",
       "      <th>6733</th>\n",
       "      <td>29463</td>\n",
       "      <td>416</td>\n",
       "      <td>61</td>\n",
       "      <td>0</td>\n",
       "      <td>1</td>\n",
       "      <td>89</td>\n",
       "      <td>84464</td>\n",
       "      <td>8</td>\n",
       "      <td>8</td>\n",
       "      <td>1996</td>\n",
       "      <td>1</td>\n",
       "      <td>0</td>\n",
       "      <td>6427</td>\n",
       "      <td>786</td>\n",
       "      <td>786</td>\n",
       "      <td>0</td>\n",
       "      <td>3</td>\n",
       "    </tr>\n",
       "    <tr>\n",
       "      <th>491</th>\n",
       "      <td>23221</td>\n",
       "      <td>32604</td>\n",
       "      <td>61</td>\n",
       "      <td>1</td>\n",
       "      <td>0</td>\n",
       "      <td>51</td>\n",
       "      <td>85386</td>\n",
       "      <td>4</td>\n",
       "      <td>1</td>\n",
       "      <td>2009</td>\n",
       "      <td>0</td>\n",
       "      <td>0</td>\n",
       "      <td>7253</td>\n",
       "      <td>6202</td>\n",
       "      <td>614</td>\n",
       "      <td>1</td>\n",
       "      <td>4</td>\n",
       "    </tr>\n",
       "    <tr>\n",
       "      <th>1616</th>\n",
       "      <td>24346</td>\n",
       "      <td>16354</td>\n",
       "      <td>8</td>\n",
       "      <td>1</td>\n",
       "      <td>1</td>\n",
       "      <td>33</td>\n",
       "      <td>61859</td>\n",
       "      <td>5</td>\n",
       "      <td>8</td>\n",
       "      <td>2019</td>\n",
       "      <td>1</td>\n",
       "      <td>0</td>\n",
       "      <td>3426</td>\n",
       "      <td>9562</td>\n",
       "      <td>866</td>\n",
       "      <td>0</td>\n",
       "      <td>7</td>\n",
       "    </tr>\n",
       "    <tr>\n",
       "      <th>9848</th>\n",
       "      <td>32578</td>\n",
       "      <td>60886</td>\n",
       "      <td>38</td>\n",
       "      <td>1</td>\n",
       "      <td>0</td>\n",
       "      <td>37</td>\n",
       "      <td>17649</td>\n",
       "      <td>4</td>\n",
       "      <td>2</td>\n",
       "      <td>2005</td>\n",
       "      <td>0</td>\n",
       "      <td>0</td>\n",
       "      <td>3734</td>\n",
       "      <td>273</td>\n",
       "      <td>221</td>\n",
       "      <td>0</td>\n",
       "      <td>0</td>\n",
       "    </tr>\n",
       "    <tr>\n",
       "      <th>11634</th>\n",
       "      <td>34364</td>\n",
       "      <td>42623</td>\n",
       "      <td>89</td>\n",
       "      <td>1</td>\n",
       "      <td>0</td>\n",
       "      <td>23</td>\n",
       "      <td>94278</td>\n",
       "      <td>10</td>\n",
       "      <td>1</td>\n",
       "      <td>2009</td>\n",
       "      <td>1</td>\n",
       "      <td>1</td>\n",
       "      <td>4683</td>\n",
       "      <td>7536</td>\n",
       "      <td>218</td>\n",
       "      <td>0</td>\n",
       "      <td>8</td>\n",
       "    </tr>\n",
       "    <tr>\n",
       "      <th>1157</th>\n",
       "      <td>23887</td>\n",
       "      <td>24280</td>\n",
       "      <td>28</td>\n",
       "      <td>0</td>\n",
       "      <td>0</td>\n",
       "      <td>36</td>\n",
       "      <td>84667</td>\n",
       "      <td>5</td>\n",
       "      <td>5</td>\n",
       "      <td>1998</td>\n",
       "      <td>0</td>\n",
       "      <td>1</td>\n",
       "      <td>2978</td>\n",
       "      <td>2626</td>\n",
       "      <td>946</td>\n",
       "      <td>0</td>\n",
       "      <td>2</td>\n",
       "    </tr>\n",
       "    <tr>\n",
       "      <th>13116</th>\n",
       "      <td>35846</td>\n",
       "      <td>39799</td>\n",
       "      <td>22</td>\n",
       "      <td>1</td>\n",
       "      <td>0</td>\n",
       "      <td>34</td>\n",
       "      <td>20800</td>\n",
       "      <td>6</td>\n",
       "      <td>9</td>\n",
       "      <td>1993</td>\n",
       "      <td>0</td>\n",
       "      <td>1</td>\n",
       "      <td>9251</td>\n",
       "      <td>9751</td>\n",
       "      <td>861</td>\n",
       "      <td>1</td>\n",
       "      <td>2</td>\n",
       "    </tr>\n",
       "  </tbody>\n",
       "</table>\n",
       "</div>"
      ],
      "text/plain": [
       "          id  squareMeters  numberOfRooms  hasYard  hasPool  floors  cityCode  \\\n",
       "5854   28584         40911             79        1        1      38     57330   \n",
       "8768   31498         66169             55        0        0      66     61958   \n",
       "2908   25638         38148             64        1        0      58     79444   \n",
       "6733   29463           416             61        0        1      89     84464   \n",
       "491    23221         32604             61        1        0      51     85386   \n",
       "1616   24346         16354              8        1        1      33     61859   \n",
       "9848   32578         60886             38        1        0      37     17649   \n",
       "11634  34364         42623             89        1        0      23     94278   \n",
       "1157   23887         24280             28        0        0      36     84667   \n",
       "13116  35846         39799             22        1        0      34     20800   \n",
       "\n",
       "       cityPartRange  numPrevOwners  made  isNewBuilt  hasStormProtector  \\\n",
       "5854               8              8  2000           0                  0   \n",
       "8768               2              8  1993           0                  0   \n",
       "2908               3              5  2000           0                  0   \n",
       "6733               8              8  1996           1                  0   \n",
       "491                4              1  2009           0                  0   \n",
       "1616               5              8  2019           1                  0   \n",
       "9848               4              2  2005           0                  0   \n",
       "11634             10              1  2009           1                  1   \n",
       "1157               5              5  1998           0                  1   \n",
       "13116              6              9  1993           0                  1   \n",
       "\n",
       "       basement  attic  garage  hasStorageRoom  hasGuestRoom  \n",
       "5854       2074   6335     842               1             7  \n",
       "8768       3401   3120     239               0             7  \n",
       "2908       7812   6597     799               0             5  \n",
       "6733       6427    786     786               0             3  \n",
       "491        7253   6202     614               1             4  \n",
       "1616       3426   9562     866               0             7  \n",
       "9848       3734    273     221               0             0  \n",
       "11634      4683   7536     218               0             8  \n",
       "1157       2978   2626     946               0             2  \n",
       "13116      9251   9751     861               1             2  "
      ]
     },
     "execution_count": 3,
     "metadata": {},
     "output_type": "execute_result"
    }
   ],
   "source": [
    "# View a Sample\n",
    "df_train.sample(10)\n",
    "df_test2.sample(10)"
   ]
  },
  {
   "cell_type": "code",
   "execution_count": 4,
   "metadata": {},
   "outputs": [
    {
     "data": {
      "text/plain": [
       "(15154, 17)"
      ]
     },
     "execution_count": 4,
     "metadata": {},
     "output_type": "execute_result"
    }
   ],
   "source": [
    "df_train.shape\n",
    "df_test2.shape"
   ]
  },
  {
   "cell_type": "code",
   "execution_count": 5,
   "metadata": {},
   "outputs": [
    {
     "data": {
      "text/plain": [
       "Index(['id', 'squareMeters', 'numberOfRooms', 'hasYard', 'hasPool', 'floors',\n",
       "       'cityCode', 'cityPartRange', 'numPrevOwners', 'made', 'isNewBuilt',\n",
       "       'hasStormProtector', 'basement', 'attic', 'garage', 'hasStorageRoom',\n",
       "       'hasGuestRoom', 'price'],\n",
       "      dtype='object')"
      ]
     },
     "execution_count": 5,
     "metadata": {},
     "output_type": "execute_result"
    }
   ],
   "source": [
    "df_train.columns"
   ]
  },
  {
   "cell_type": "code",
   "execution_count": 6,
   "metadata": {},
   "outputs": [
    {
     "name": "stdout",
     "output_type": "stream",
     "text": [
      "Duplicated train values: 0\n",
      "Duplicated test values: 0\n"
     ]
    }
   ],
   "source": [
    "# Check for duplicated values\n",
    "print('Duplicated train values:', df_train.duplicated().sum())\n",
    "print('Duplicated test values:', df_test2.duplicated().sum())"
   ]
  },
  {
   "cell_type": "markdown",
   "metadata": {},
   "source": [
    "### Merge Datasets for Processing"
   ]
  },
  {
   "cell_type": "code",
   "execution_count": 8,
   "metadata": {},
   "outputs": [],
   "source": [
    "# Drop ID Column\n",
    "df_train = df_train.drop(columns=['id'])\n",
    "df_test = df_test2.drop(columns=['id'])"
   ]
  },
  {
   "cell_type": "code",
   "execution_count": 9,
   "metadata": {},
   "outputs": [],
   "source": [
    "# Create a set variable to differnetiate between train and test\n",
    "df_train['section'] = \"Train\"\n",
    "df_test['section'] = \"Test\""
   ]
  },
  {
   "cell_type": "code",
   "execution_count": 10,
   "metadata": {},
   "outputs": [],
   "source": [
    "# Create a Sale Price column for df_test and set to 0 as a placeholder\n",
    "df_test['price'] = 0"
   ]
  },
  {
   "cell_type": "code",
   "execution_count": 11,
   "metadata": {},
   "outputs": [],
   "source": [
    "# Stack the datasets\n",
    "df = pd.concat([df_train, df_test], ignore_index=True, axis = 0, sort = False)"
   ]
  },
  {
   "cell_type": "markdown",
   "metadata": {},
   "source": [
    "## Missing Values & Imputation"
   ]
  },
  {
   "cell_type": "code",
   "execution_count": 15,
   "metadata": {},
   "outputs": [
    {
     "data": {
      "text/plain": [
       "Text(0.5, 1.0, 'Missing Values by Feature')"
      ]
     },
     "execution_count": 15,
     "metadata": {},
     "output_type": "execute_result"
    },
    {
     "data": {
      "image/png": "[encoded data removed]",
      "text/plain": [
       "<Figure size 720x360 with 1 Axes>"
      ]
     },
     "metadata": {
      "needs_background": "light"
     },
     "output_type": "display_data"
    }
   ],
   "source": [
    "# Check for Columns with NA values\n",
    "missing = df.isnull().sum()\n",
    "\n",
    "# Vizualize missing value count\n",
    "missing = missing[missing >= 0]\n",
    "missing.sort_values(inplace=True)\n",
    "missing.plot.bar(figsize = (10,5))\n",
    "plt.xlabel('Feature',fontsize=15)\n",
    "plt.ylabel('Missing Count',fontsize = 15)\n",
    "plt.title('Missing Values by Feature', fontsize=20)"
   ]
  },
  {
   "cell_type": "code",
   "execution_count": 16,
   "metadata": {},
   "outputs": [
    {
     "name": "stdout",
     "output_type": "stream",
     "text": [
      "squareMeters         0\n",
      "hasGuestRoom         0\n",
      "hasStorageRoom       0\n",
      "garage               0\n",
      "attic                0\n",
      "basement             0\n",
      "hasStormProtector    0\n",
      "isNewBuilt           0\n",
      "made                 0\n",
      "numPrevOwners        0\n",
      "cityPartRange        0\n",
      "cityCode             0\n",
      "floors               0\n",
      "hasPool              0\n",
      "hasYard              0\n",
      "numberOfRooms        0\n",
      "price                0\n",
      "section              0\n",
      "dtype: int64\n"
     ]
    },
    {
     "data": {
      "text/plain": [
       "(15154, 18)"
      ]
     },
     "execution_count": 16,
     "metadata": {},
     "output_type": "execute_result"
    }
   ],
   "source": [
    "# Check Number of missing numerically\n",
    "print(missing)\n",
    "\n",
    "df[df['price'] == 0].shape"
   ]
  },
  {
   "cell_type": "markdown",
   "metadata": {},
   "source": [
    "### Ordinal Encoding"
   ]
  },
  {
   "cell_type": "code",
   "execution_count": 22,
   "metadata": {},
   "outputs": [],
   "source": [
    "ordinal = df[['hasYard', 'hasPool', 'cityPartRange', 'numPrevOwners', 'isNewBuilt','hasStormProtector', 'hasGuestRoom']].copy()"
   ]
  },
  {
   "cell_type": "code",
   "execution_count": 23,
   "metadata": {},
   "outputs": [],
   "source": [
    "# Create a dictionary of all ordinal values\n",
    "temp = {}\n",
    "\n",
    "for col in ordinal:\n",
    "    temp[col] = ordinal[col].unique().tolist()"
   ]
  },
  {
   "cell_type": "code",
   "execution_count": 24,
   "metadata": {
    "scrolled": true
   },
   "outputs": [
    {
     "data": {
      "text/plain": [
       "{'hasYard': [1, 0],\n",
       " 'hasPool': [0, 1],\n",
       " 'cityPartRange': [2, 1, 4, 8, 9, 3, 6, 10, 5, 7],\n",
       " 'numPrevOwners': [1, 4, 8, 6, 10, 7, 2, 5, 3, 9],\n",
       " 'isNewBuilt': [0, 1],\n",
       " 'hasStormProtector': [1, 0],\n",
       " 'hasGuestRoom': [3, 6, 9, 7, 0, 5, 1, 8, 2, 4, 10]}"
      ]
     },
     "execution_count": 24,
     "metadata": {},
     "output_type": "execute_result"
    }
   ],
   "source": [
    "# Take a look at Values\n",
    "temp"
   ]
  },
  {
   "cell_type": "code",
   "execution_count": 25,
   "metadata": {},
   "outputs": [
    {
     "data": {
      "text/plain": [
       "Index(['section'], dtype='object')"
      ]
     },
     "execution_count": 25,
     "metadata": {},
     "output_type": "execute_result"
    }
   ],
   "source": [
    "# Checkout remaining Categorical Columns\n",
    "df.columns[df.dtypes == object]"
   ]
  },
  {
   "cell_type": "markdown",
   "metadata": {},
   "source": [
    "### (Note: Possibly Consider Transforming Features that are Skewed)"
   ]
  },
  {
   "cell_type": "markdown",
   "metadata": {},
   "source": [
    "### Dummify and Split Data for Modeling"
   ]
  },
  {
   "cell_type": "code",
   "execution_count": 26,
   "metadata": {},
   "outputs": [],
   "source": [
    "df = pd.get_dummies(df,drop_first=True)"
   ]
  },
  {
   "cell_type": "code",
   "execution_count": 27,
   "metadata": {},
   "outputs": [],
   "source": [
    "train = df[df['section_Train'] == 1].drop(columns=['section_Train'])\n",
    "test = df[df['section_Train'] == 0].drop(columns=['section_Train'])"
   ]
  },
  {
   "cell_type": "code",
   "execution_count": 29,
   "metadata": {},
   "outputs": [
    {
     "data": {
      "text/plain": [
       "(15154, 16)"
      ]
     },
     "execution_count": 29,
     "metadata": {},
     "output_type": "execute_result"
    }
   ],
   "source": [
    "testPredict = test.drop('price', axis=1)\n",
    "testPredict.shape"
   ]
  },
  {
   "cell_type": "markdown",
   "metadata": {},
   "source": [
    "### Drop Outliers"
   ]
  },
  {
   "cell_type": "code",
   "execution_count": 30,
   "metadata": {},
   "outputs": [],
   "source": [
    "X = train.drop(columns=['price'])\n",
    "y = train['price']"
   ]
  },
  {
   "cell_type": "code",
   "execution_count": 31,
   "metadata": {},
   "outputs": [
    {
     "data": {
      "text/plain": [
       "(22730, 16)"
      ]
     },
     "execution_count": 31,
     "metadata": {},
     "output_type": "execute_result"
    }
   ],
   "source": [
    "X.shape"
   ]
  },
  {
   "cell_type": "markdown",
   "metadata": {},
   "source": [
    "### Test Simple Model"
   ]
  },
  {
   "cell_type": "code",
   "execution_count": 32,
   "metadata": {},
   "outputs": [
    {
     "data": {
      "text/plain": [
       "(array([1.0000e+00, 0.0000e+00, 0.0000e+00, 0.0000e+00, 0.0000e+00,\n",
       "        0.0000e+00, 0.0000e+00, 0.0000e+00, 2.0600e+02, 2.2523e+04]),\n",
       " array([-66.36768313, -59.3769701 , -52.38625707, -45.39554404,\n",
       "        -38.40483101, -31.41411798, -24.42340496, -17.43269193,\n",
       "        -10.4419789 ,  -3.45126587,   3.53944716]),\n",
       " <BarContainer object of 10 artists>)"
      ]
     },
     "execution_count": 32,
     "metadata": {},
     "output_type": "execute_result"
    },
    {
     "data": {
      "image/png": "[encoded data removed]",
      "text/plain": [
       "<Figure size 432x288 with 1 Axes>"
      ]
     },
     "metadata": {
      "needs_background": "light"
     },
     "output_type": "display_data"
    }
   ],
   "source": [
    "from sklearn.linear_model import LinearRegression\n",
    "lm = LinearRegression()\n",
    "lm.fit(X, np.log(y))\n",
    "residuals = np.log(y) - lm.predict(X)\n",
    "plt.hist(residuals)"
   ]
  },
  {
   "cell_type": "code",
   "execution_count": 33,
   "metadata": {},
   "outputs": [
    {
     "name": "stdout",
     "output_type": "stream",
     "text": [
      "The R^2 of the new linear model is 0.272 \n"
     ]
    }
   ],
   "source": [
    "print('The R^2 of the new linear model is %.3f ' %(lm.score(X, np.log(y))))"
   ]
  },
  {
   "cell_type": "markdown",
   "metadata": {},
   "source": [
    "### Test out Statspackage"
   ]
  },
  {
   "cell_type": "code",
   "execution_count": 34,
   "metadata": {
    "scrolled": false
   },
   "outputs": [
    {
     "name": "stdout",
     "output_type": "stream",
     "text": [
      "                            OLS Regression Results                            \n",
      "==============================================================================\n",
      "Dep. Variable:                  price   R-squared:                       0.272\n",
      "Model:                            OLS   Adj. R-squared:                  0.272\n",
      "Method:                 Least Squares   F-statistic:                     531.6\n",
      "Date:                Thu, 15 Jun 2023   Prob (F-statistic):               0.00\n",
      "Time:                        22:31:39   Log-Likelihood:                -30808.\n",
      "No. Observations:               22730   AIC:                         6.165e+04\n",
      "Df Residuals:                   22713   BIC:                         6.179e+04\n",
      "Df Model:                          16                                         \n",
      "Covariance Type:            nonrobust                                         \n",
      "=====================================================================================\n",
      "                        coef    std err          t      P>|t|      [0.025      0.975]\n",
      "-------------------------------------------------------------------------------------\n",
      "const                14.4254      0.111    130.095      0.000      14.208      14.643\n",
      "squareMeters       1.114e-05   1.26e-07     88.122      0.000    1.09e-05    1.14e-05\n",
      "numberOfRooms         0.0017      0.000      7.838      0.000       0.001       0.002\n",
      "hasYard              -0.0175      0.013     -1.402      0.161      -0.042       0.007\n",
      "hasPool               0.0049      0.013      0.388      0.698      -0.020       0.029\n",
      "floors                0.0005      0.000      4.056      0.000       0.000       0.001\n",
      "cityCode           1.617e-07   2.08e-07      0.779      0.436   -2.45e-07    5.69e-07\n",
      "cityPartRange        -0.0007      0.002     -0.320      0.749      -0.005       0.004\n",
      "numPrevOwners        -0.0010      0.002     -0.444      0.657      -0.006       0.003\n",
      "made               9.784e-05   5.24e-05      1.866      0.062   -4.91e-06       0.000\n",
      "isNewBuilt            0.0218      0.012      1.744      0.081      -0.003       0.046\n",
      "hasStormProtector     0.0138      0.013      1.103      0.270      -0.011       0.038\n",
      "basement          -3.827e-06   2.05e-06     -1.870      0.061   -7.84e-06    1.84e-07\n",
      "attic             -4.711e-06   2.01e-06     -2.340      0.019   -8.66e-06   -7.65e-07\n",
      "garage               -0.0004   2.28e-05    -16.166      0.000      -0.000      -0.000\n",
      "hasStorageRoom       -0.0004      0.013     -0.034      0.973      -0.025       0.024\n",
      "hasGuestRoom         -0.0078      0.002     -3.825      0.000      -0.012      -0.004\n",
      "==============================================================================\n",
      "Omnibus:                    47612.112   Durbin-Watson:                   1.989\n",
      "Prob(Omnibus):                  0.000   Jarque-Bera (JB):       1154903151.419\n",
      "Skew:                         -17.264   Prob(JB):                         0.00\n",
      "Kurtosis:                    1106.739   Cond. No.                     1.43e+06\n",
      "==============================================================================\n",
      "\n",
      "Notes:\n",
      "[1] Standard Errors assume that the covariance matrix of the errors is correctly specified.\n",
      "[2] The condition number is large, 1.43e+06. This might indicate that there are\n",
      "strong multicollinearity or other numerical problems.\n"
     ]
    }
   ],
   "source": [
    "import statsmodels.api as sm\n",
    "x = sm.add_constant(X)\n",
    "model = sm.OLS(np.log(y), x)\n",
    "results = model.fit()\n",
    "print(results.summary())"
   ]
  },
  {
   "cell_type": "code",
   "execution_count": 35,
   "metadata": {},
   "outputs": [
    {
     "name": "stdout",
     "output_type": "stream",
     "text": [
      "The significant coefficients\n"
     ]
    },
    {
     "data": {
      "text/plain": [
       "const            0.000000e+00\n",
       "squareMeters     0.000000e+00\n",
       "numberOfRooms    4.760035e-15\n",
       "floors           5.008701e-05\n",
       "attic            1.928350e-02\n",
       "garage           1.857004e-58\n",
       "hasGuestRoom     1.309680e-04\n",
       "dtype: float64"
      ]
     },
     "execution_count": 35,
     "metadata": {},
     "output_type": "execute_result"
    }
   ],
   "source": [
    "pValues = results.pvalues\n",
    "print('The significant coefficients')\n",
    "pValues[pValues<0.05]"
   ]
  },
  {
   "cell_type": "code",
   "execution_count": 36,
   "metadata": {},
   "outputs": [
    {
     "name": "stdout",
     "output_type": "stream",
     "text": [
      "The insignificant coefficients\n"
     ]
    },
    {
     "data": {
      "text/plain": [
       "hasYard              0.160987\n",
       "hasPool              0.698073\n",
       "cityCode             0.436122\n",
       "cityPartRange        0.748677\n",
       "numPrevOwners        0.656741\n",
       "made                 0.062005\n",
       "isNewBuilt           0.081194\n",
       "hasStormProtector    0.270197\n",
       "basement             0.061443\n",
       "hasStorageRoom       0.972540\n",
       "dtype: float64"
      ]
     },
     "execution_count": 36,
     "metadata": {},
     "output_type": "execute_result"
    }
   ],
   "source": [
    "print('The insignificant coefficients')\n",
    "pValues[pValues>=0.05]"
   ]
  },
  {
   "cell_type": "markdown",
   "metadata": {},
   "source": [
    "### Simple Split"
   ]
  },
  {
   "cell_type": "code",
   "execution_count": 37,
   "metadata": {},
   "outputs": [],
   "source": [
    "from sklearn.model_selection import train_test_split\n",
    "X_train, X_test, y_train, y_test = train_test_split(X, y, test_size=0.2, random_state=42)"
   ]
  },
  {
   "cell_type": "code",
   "execution_count": 38,
   "metadata": {},
   "outputs": [],
   "source": [
    "from sklearn.linear_model import LinearRegression, Ridge, Lasso, ElasticNet\n",
    "y_train_log = np.log(y_train)\n",
    "y_test_log = np.log(y_test)"
   ]
  },
  {
   "cell_type": "markdown",
   "metadata": {},
   "source": [
    "- - -"
   ]
  },
  {
   "cell_type": "markdown",
   "metadata": {},
   "source": [
    "### Printing final, processed .csv(s): "
   ]
  },
  {
   "cell_type": "code",
   "execution_count": 39,
   "metadata": {},
   "outputs": [],
   "source": [
    "X.to_csv('./data/xtrain.csv')\n",
    "y.to_csv('./data/ytrain.csv')\n",
    "testPredict.to_csv('./data/xtest.csv')"
   ]
  },
  {
   "cell_type": "markdown",
   "metadata": {},
   "source": [
    "- - -"
   ]
  },
  {
   "cell_type": "code",
   "execution_count": null,
   "metadata": {},
   "outputs": [],
   "source": []
  },
  {
   "cell_type": "markdown",
   "metadata": {},
   "source": [
    "- - -"
   ]
  }
 ],
 "metadata": {
  "kernelspec": {
   "display_name": "Python 3 (ipykernel)",
   "language": "python",
   "name": "python3"
  },
  "language_info": {
   "codemirror_mode": {
    "name": "ipython",
    "version": 3
   },
   "file_extension": ".py",
   "mimetype": "text/x-python",
   "name": "python",
   "nbconvert_exporter": "python",
   "pygments_lexer": "ipython3",
   "version": "3.9.12"
  }
 },
 "nbformat": 4,
 "nbformat_minor": 2
}
