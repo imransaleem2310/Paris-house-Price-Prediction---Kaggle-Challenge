{
 "cells": [
  {
   "cell_type": "markdown",
   "metadata": {},
   "source": [
    "# Generalized Linear Modeling (using reduced data sets)"
   ]
  },
  {
   "cell_type": "markdown",
   "metadata": {},
   "source": [
    "- - -"
   ]
  },
  {
   "cell_type": "markdown",
   "metadata": {},
   "source": [
    "<p><a name=\"home\"></a></p>\n",
    "## SECTIONS:\n",
    "1. <a href=\"#overview\">Initializing</a><br>\n",
    "2. <a href=\"#ridge\">Penalized Regression: RIDGE</a><br>\n",
    "3. <a href=\"#lasso\">Penalized Regrssion: LASSO</a><br>\n",
    "4. <a href=\"#elastic\">ELASTIC NET</a><br>"
   ]
  },
  {
   "cell_type": "markdown",
   "metadata": {},
   "source": [
    "- - -"
   ]
  },
  {
   "cell_type": "markdown",
   "metadata": {},
   "source": [
    "<p><a name=\"overview\"></a></p>\n",
    "## 1. Initializing:\n",
    "<a href=\"#home\">BACK TO THE TOP</a>"
   ]
  },
  {
   "cell_type": "markdown",
   "metadata": {},
   "source": [
    "**Importing Modules**"
   ]
  },
  {
   "cell_type": "code",
   "execution_count": 1,
   "metadata": {},
   "outputs": [],
   "source": [
    "import pandas as pd\n",
    "import numpy as np\n",
    "import matplotlib.pyplot as plt\n",
    "import seaborn as sns\n",
    "from scipy import stats\n",
    "from scipy.stats import norm, skew"
   ]
  },
  {
   "cell_type": "markdown",
   "metadata": {},
   "source": [
    "### Loading Data:"
   ]
  },
  {
   "cell_type": "code",
   "execution_count": 40,
   "metadata": {},
   "outputs": [],
   "source": [
    "# Load train dataset\n",
    "df_train = pd.read_csv('./train.csv')\n",
    "df_test2 = pd.read_csv('./test.csv')"
   ]
  },
  {
   "cell_type": "code",
   "execution_count": 41,
   "metadata": {},
   "outputs": [],
   "source": [
    "# Drop ID Column\n",
    "df_train = df_train.drop(columns=['id'])\n",
    "df_test = df_test2.drop(columns=['id'])\n",
    "# Create a set variable to differnetiate between train and test\n",
    "df_train['section'] = \"Train\"\n",
    "df_test['section'] = \"Test\""
   ]
  },
  {
   "cell_type": "markdown",
   "metadata": {},
   "source": [
    "**Cleaning imported .csv(s):**"
   ]
  },
  {
   "cell_type": "code",
   "execution_count": 42,
   "metadata": {},
   "outputs": [],
   "source": [
    "# Stack the datasets\n",
    "df = pd.concat([df_train, df_test], ignore_index=True, axis = 0, sort = False)"
   ]
  },
  {
   "cell_type": "code",
   "execution_count": 43,
   "metadata": {},
   "outputs": [],
   "source": [
    "df = pd.get_dummies(df,drop_first=True)\n",
    "train = df[df['section_Train'] == 1].drop(columns=['section_Train'])\n",
    "test = df[df['section_Train'] == 0].drop(columns=['section_Train'])\n",
    "testPredict = test.drop('price', axis=1)\n",
    "testPredict.shape\n",
    "X = train.drop(columns=['price'])\n",
    "y = train['price']"
   ]
  },
  {
   "cell_type": "code",
   "execution_count": 46,
   "metadata": {},
   "outputs": [
    {
     "data": {
      "text/plain": [
       "(22730, 16)"
      ]
     },
     "execution_count": 46,
     "metadata": {},
     "output_type": "execute_result"
    }
   ],
   "source": [
    "X.shape"
   ]
  },
  {
   "cell_type": "markdown",
   "metadata": {},
   "source": [
    "### Generating Training and Validation subsets (from training set):"
   ]
  },
  {
   "cell_type": "code",
   "execution_count": 47,
   "metadata": {},
   "outputs": [],
   "source": [
    "from sklearn.model_selection import train_test_split\n",
    "X_train, X_test, y_train, y_test = train_test_split(X, y, test_size=0.2, random_state=42)"
   ]
  },
  {
   "cell_type": "code",
   "execution_count": 81,
   "metadata": {},
   "outputs": [
    {
     "data": {
      "text/plain": [
       "4546"
      ]
     },
     "execution_count": 81,
     "metadata": {},
     "output_type": "execute_result"
    }
   ],
   "source": [
    "len(y_test)"
   ]
  },
  {
   "cell_type": "markdown",
   "metadata": {},
   "source": [
    "**Creating log values of dependent variable (SalePrice):**"
   ]
  },
  {
   "cell_type": "code",
   "execution_count": 48,
   "metadata": {},
   "outputs": [],
   "source": [
    "y_log = np.log(y)\n",
    "y_train_log = np.log(y_train)\n",
    "y_test_log = np.log(y_test)"
   ]
  },
  {
   "cell_type": "markdown",
   "metadata": {},
   "source": [
    "### Initializing Model Objects:"
   ]
  },
  {
   "cell_type": "code",
   "execution_count": 49,
   "metadata": {},
   "outputs": [],
   "source": [
    "from sklearn.linear_model import LinearRegression, Ridge, Lasso, ElasticNet\n",
    "ridge   = Ridge()\n",
    "lasso   = Lasso()\n",
    "elastic = ElasticNet()"
   ]
  },
  {
   "cell_type": "code",
   "execution_count": 50,
   "metadata": {},
   "outputs": [],
   "source": [
    "from sklearn.model_selection import GridSearchCV\n",
    "from sklearn.linear_model import ElasticNetCV"
   ]
  },
  {
   "cell_type": "markdown",
   "metadata": {},
   "source": [
    "- - -"
   ]
  },
  {
   "cell_type": "markdown",
   "metadata": {},
   "source": [
    "<p><a name=\"ridge\"></a></p>\n",
    "## 2. Penalized Regression: RIDGE\n",
    "<a href=\"#home\">BACK TO THE TOP</a>"
   ]
  },
  {
   "cell_type": "markdown",
   "metadata": {},
   "source": [
    "**Setting a range of penalty hyperparameter, lambda (alpha):**"
   ]
  },
  {
   "cell_type": "code",
   "execution_count": 51,
   "metadata": {},
   "outputs": [],
   "source": [
    "ridge_alpharange = np.linspace(0.001,40, 1000)"
   ]
  },
  {
   "cell_type": "markdown",
   "metadata": {},
   "source": [
    "**Creating empty lists to append scores and coefficients per iteration over lambda:**"
   ]
  },
  {
   "cell_type": "code",
   "execution_count": 52,
   "metadata": {},
   "outputs": [],
   "source": [
    "ridge_scores_train = []\n",
    "ridge_scores_test  = []\n",
    "ridge_coefs        = []"
   ]
  },
  {
   "cell_type": "markdown",
   "metadata": {},
   "source": [
    "**Iterating through previously selected grid of lambda values:**"
   ]
  },
  {
   "cell_type": "code",
   "execution_count": 53,
   "metadata": {},
   "outputs": [],
   "source": [
    "for alpha in ridge_alpharange:\n",
    "    ridge.set_params(alpha=alpha)\n",
    "    ridge.fit(X_train, y_train_log)\n",
    "    ridge_scores_train.append(ridge.score(X_train, y_train_log))\n",
    "    ridge_scores_test.append(ridge.score(X_test, y_test_log))\n",
    "    ridge_coefs.append(ridge.coef_)"
   ]
  },
  {
   "cell_type": "markdown",
   "metadata": {},
   "source": [
    "**Creating arrays of score and coefficient lists:**"
   ]
  },
  {
   "cell_type": "code",
   "execution_count": 54,
   "metadata": {},
   "outputs": [],
   "source": [
    "ridge_scores_train = np.array(ridge_scores_train)\n",
    "ridge_scores_test  = np.array(ridge_scores_test)\n",
    "ridge_coefs        = np.array(ridge_coefs)"
   ]
  },
  {
   "cell_type": "markdown",
   "metadata": {},
   "source": [
    "**Visually comparing $R^2$ values of models per Lambda values:**"
   ]
  },
  {
   "cell_type": "code",
   "execution_count": 55,
   "metadata": {},
   "outputs": [
    {
     "data": {
      "image/png": "[encoded data removed]",
      "text/plain": [
       "<Figure size 720x360 with 1 Axes>"
      ]
     },
     "metadata": {
      "needs_background": "light"
     },
     "output_type": "display_data"
    }
   ],
   "source": [
    "plt.figure(figsize=(10,5))\n",
    "plt.plot(ridge_alpharange, ridge_scores_train)\n",
    "plt.plot(ridge_alpharange, ridge_scores_test)\n",
    "plt.title('$R^2$ values of Train/Test split set (80/20)')\n",
    "plt.show()"
   ]
  },
  {
   "cell_type": "markdown",
   "metadata": {},
   "source": [
    "**Visualizing Coefficients being penalized by Lambda Values:**"
   ]
  },
  {
   "cell_type": "code",
   "execution_count": 56,
   "metadata": {},
   "outputs": [
    {
     "data": {
      "image/png": "[encoded data removed]",
      "text/plain": [
       "<Figure size 1080x720 with 1 Axes>"
      ]
     },
     "metadata": {
      "needs_background": "light"
     },
     "output_type": "display_data"
    }
   ],
   "source": [
    "plt.figure(figsize=(15,10))\n",
    "plt.plot(ridge_alpharange, ridge_coefs)\n",
    "plt.title('Coefficients vs Lambda')\n",
    "plt.show()"
   ]
  },
  {
   "cell_type": "markdown",
   "metadata": {},
   "source": [
    "**Using complete training set (no split) to train model using GridSearchCV function:**"
   ]
  },
  {
   "cell_type": "code",
   "execution_count": 57,
   "metadata": {},
   "outputs": [
    {
     "data": {
      "text/plain": [
       "GridSearchCV(estimator=Ridge(alpha=40.0),\n",
       "             param_grid={'alpha': array([1.00000000e-03, 4.10390390e-02, 8.10780781e-02, 1.21117117e-01,\n",
       "       1.61156156e-01, 2.01195195e-01, 2.41234234e-01, 2.81273273e-01,\n",
       "       3.21312312e-01, 3.61351351e-01, 4.01390390e-01, 4.41429429e-01,\n",
       "       4.81468468e-01, 5.21507508e-01, 5.61546547e-01, 6.01585586e-01,\n",
       "       6.41624625e-01, 6.81663664e-01, 7.21702703e-...\n",
       "       3.90791021e+01, 3.91191411e+01, 3.91591802e+01, 3.91992192e+01,\n",
       "       3.92392583e+01, 3.92792973e+01, 3.93193363e+01, 3.93593754e+01,\n",
       "       3.93994144e+01, 3.94394535e+01, 3.94794925e+01, 3.95195315e+01,\n",
       "       3.95595706e+01, 3.95996096e+01, 3.96396486e+01, 3.96796877e+01,\n",
       "       3.97197267e+01, 3.97597658e+01, 3.97998048e+01, 3.98398438e+01,\n",
       "       3.98798829e+01, 3.99199219e+01, 3.99599610e+01, 4.00000000e+01])},\n",
       "             scoring='r2')"
      ]
     },
     "execution_count": 57,
     "metadata": {},
     "output_type": "execute_result"
    }
   ],
   "source": [
    "gsridge = GridSearchCV(ridge, {\"alpha\":ridge_alpharange}, scoring='r2')\n",
    "gsridge.fit(X, y_log)"
   ]
  },
  {
   "cell_type": "code",
   "execution_count": 58,
   "metadata": {},
   "outputs": [
    {
     "data": {
      "text/plain": [
       "{'alpha': 40.0}"
      ]
     },
     "execution_count": 58,
     "metadata": {},
     "output_type": "execute_result"
    }
   ],
   "source": [
    "gsridge.best_params_"
   ]
  },
  {
   "cell_type": "code",
   "execution_count": 59,
   "metadata": {},
   "outputs": [
    {
     "data": {
      "text/plain": [
       "-0.9090971435235071"
      ]
     },
     "execution_count": 59,
     "metadata": {},
     "output_type": "execute_result"
    }
   ],
   "source": [
    "gsridge.best_score_"
   ]
  },
  {
   "cell_type": "markdown",
   "metadata": {},
   "source": [
    "**Using best Lambda produced above to predict SalePrice values on test data set:**"
   ]
  },
  {
   "cell_type": "code",
   "execution_count": 86,
   "metadata": {},
   "outputs": [
    {
     "name": "stdout",
     "output_type": "stream",
     "text": [
      "Ridge(alpha={'alpha': 40.0})\n"
     ]
    }
   ],
   "source": [
    "ridge.set_params(alpha = gsridge.best_params_)\n",
    "print(ridge)"
   ]
  },
  {
   "cell_type": "markdown",
   "metadata": {},
   "source": [
    "**Printing .csv:**"
   ]
  },
  {
   "cell_type": "code",
   "execution_count": 91,
   "metadata": {},
   "outputs": [],
   "source": [
    "# Reduce the length of the index by one\n",
    "adjusted_index = testID['id'][1:]\n",
    "\n",
    "# Convert the predicted values to a DataFrame with the adjusted index\n",
    "gs_ridge_min_predict = pd.DataFrame({'price': np.exp(ridge.predict(XPredict)).flatten()}, index=adjusted_index)\n",
    "\n",
    "# Save the DataFrame to a CSV file\n",
    "gs_ridge_min_predict.to_csv('./kaggle_submissions/gs_ridge_predict.csv')\n"
   ]
  },
  {
   "cell_type": "markdown",
   "metadata": {},
   "source": [
    "- - -"
   ]
  },
  {
   "cell_type": "markdown",
   "metadata": {},
   "source": [
    "<p><a name=\"lasso\"></a></p>\n",
    "## 3. Penalized Regrssion: LASSO\n",
    "<a href=\"#home\">BACK TO THE TOP</a>"
   ]
  },
  {
   "cell_type": "markdown",
   "metadata": {},
   "source": [
    "**Setting a range of penalty hyperparameter, lambda (alpha):**"
   ]
  },
  {
   "cell_type": "code",
   "execution_count": 65,
   "metadata": {},
   "outputs": [],
   "source": [
    "lasso_alpharange = np.linspace(0.0001,0.1,1000)"
   ]
  },
  {
   "cell_type": "markdown",
   "metadata": {},
   "source": [
    "**Creating empty lists to append scores and coefficients per iteration over lambda:**"
   ]
  },
  {
   "cell_type": "code",
   "execution_count": 66,
   "metadata": {},
   "outputs": [],
   "source": [
    "lasso_scores_train = []\n",
    "lasso_scores_test  = []\n",
    "lasso_coefs        = []"
   ]
  },
  {
   "cell_type": "markdown",
   "metadata": {},
   "source": [
    "**Iterating through previously selected grid of lambda values:**"
   ]
  },
  {
   "cell_type": "code",
   "execution_count": 67,
   "metadata": {},
   "outputs": [],
   "source": [
    "for alpha in lasso_alpharange:\n",
    "    lasso.set_params(alpha=alpha)\n",
    "    lasso.fit(X_train, y_train_log)\n",
    "    lasso_scores_train.append(lasso.score(X_train, y_train_log))\n",
    "    lasso_scores_test.append(lasso.score(X_test, y_test_log))\n",
    "    lasso_coefs.append(lasso.coef_)"
   ]
  },
  {
   "cell_type": "markdown",
   "metadata": {},
   "source": [
    "**Creating arrays of score and coefficient lists:**"
   ]
  },
  {
   "cell_type": "code",
   "execution_count": 68,
   "metadata": {},
   "outputs": [],
   "source": [
    "lasso_scores_train = np.array(lasso_scores_train)\n",
    "lasso_scores_test  = np.array(lasso_scores_test)\n",
    "lasso_coefs        = np.array(lasso_coefs)"
   ]
  },
  {
   "cell_type": "markdown",
   "metadata": {},
   "source": [
    "**Visually comparing $R^2$ values of models per Lambda values:**"
   ]
  },
  {
   "cell_type": "code",
   "execution_count": 69,
   "metadata": {},
   "outputs": [
    {
     "data": {
      "image/png": "[encoded data removed]",
      "text/plain": [
       "<Figure size 720x360 with 1 Axes>"
      ]
     },
     "metadata": {
      "needs_background": "light"
     },
     "output_type": "display_data"
    }
   ],
   "source": [
    "plt.figure(figsize=(10,5))\n",
    "plt.plot(lasso_alpharange, lasso_scores_train)\n",
    "plt.plot(lasso_alpharange, lasso_scores_test)\n",
    "plt.title('$R^2$ values of Train/Test split set (80/20)')\n",
    "plt.show()"
   ]
  },
  {
   "cell_type": "markdown",
   "metadata": {},
   "source": [
    "**Visualizing Coefficients being penalized by Lambda Values:**"
   ]
  },
  {
   "cell_type": "code",
   "execution_count": 70,
   "metadata": {},
   "outputs": [
    {
     "data": {
      "image/png": "[encoded data removed]",
      "text/plain": [
       "<Figure size 1080x720 with 1 Axes>"
      ]
     },
     "metadata": {
      "needs_background": "light"
     },
     "output_type": "display_data"
    }
   ],
   "source": [
    "plt.figure(figsize=(15,10))\n",
    "plt.plot(lasso_alpharange, lasso_coefs)\n",
    "plt.title('Coefficients vs Lambda')\n",
    "plt.show()"
   ]
  },
  {
   "cell_type": "markdown",
   "metadata": {},
   "source": [
    "**Using complete training set (no split) to train model using GridSearchCV function:**"
   ]
  },
  {
   "cell_type": "code",
   "execution_count": 71,
   "metadata": {},
   "outputs": [
    {
     "data": {
      "text/plain": [
       "GridSearchCV(estimator=Lasso(alpha=0.1),\n",
       "             param_grid={'alpha': array([0.0001, 0.0002, 0.0003, 0.0004, 0.0005, 0.0006, 0.0007, 0.0008,\n",
       "       0.0009, 0.001 , 0.0011, 0.0012, 0.0013, 0.0014, 0.0015, 0.0016,\n",
       "       0.0017, 0.0018, 0.0019, 0.002 , 0.0021, 0.0022, 0.0023, 0.0024,\n",
       "       0.0025, 0.0026, 0.0027, 0.0028, 0.0029, 0.003 , 0.0031, 0.0032,\n",
       "       0.0033, 0.0034, 0.0035, 0.0036, 0.0037, 0.0038, 0.0039, 0.004 ,\n",
       "       0.0041,...\n",
       "       0.0945, 0.0946, 0.0947, 0.0948, 0.0949, 0.095 , 0.0951, 0.0952,\n",
       "       0.0953, 0.0954, 0.0955, 0.0956, 0.0957, 0.0958, 0.0959, 0.096 ,\n",
       "       0.0961, 0.0962, 0.0963, 0.0964, 0.0965, 0.0966, 0.0967, 0.0968,\n",
       "       0.0969, 0.097 , 0.0971, 0.0972, 0.0973, 0.0974, 0.0975, 0.0976,\n",
       "       0.0977, 0.0978, 0.0979, 0.098 , 0.0981, 0.0982, 0.0983, 0.0984,\n",
       "       0.0985, 0.0986, 0.0987, 0.0988, 0.0989, 0.099 , 0.0991, 0.0992,\n",
       "       0.0993, 0.0994, 0.0995, 0.0996, 0.0997, 0.0998, 0.0999, 0.1   ])},\n",
       "             scoring='r2')"
      ]
     },
     "execution_count": 71,
     "metadata": {},
     "output_type": "execute_result"
    }
   ],
   "source": [
    "gslasso = GridSearchCV(lasso, {\"alpha\":lasso_alpharange}, scoring='r2')\n",
    "gslasso.fit(X, y_log)"
   ]
  },
  {
   "cell_type": "code",
   "execution_count": 72,
   "metadata": {},
   "outputs": [
    {
     "data": {
      "text/plain": [
       "{'alpha': 0.1}"
      ]
     },
     "execution_count": 72,
     "metadata": {},
     "output_type": "execute_result"
    }
   ],
   "source": [
    "gslasso.best_params_"
   ]
  },
  {
   "cell_type": "code",
   "execution_count": 73,
   "metadata": {},
   "outputs": [
    {
     "data": {
      "text/plain": [
       "-0.9070411838277244"
      ]
     },
     "execution_count": 73,
     "metadata": {},
     "output_type": "execute_result"
    }
   ],
   "source": [
    "gslasso.best_score_"
   ]
  },
  {
   "cell_type": "markdown",
   "metadata": {},
   "source": [
    "**Using best Lambda produced above to predict SalePrice values on test data set:**"
   ]
  },
  {
   "cell_type": "code",
   "execution_count": 74,
   "metadata": {},
   "outputs": [
    {
     "name": "stdout",
     "output_type": "stream",
     "text": [
      "Lasso(alpha={'alpha': 0.1})\n"
     ]
    }
   ],
   "source": [
    "lasso.set_params(alpha = gslasso.best_params_)\n",
    "print(lasso)"
   ]
  },
  {
   "cell_type": "markdown",
   "metadata": {},
   "source": [
    "**Printing .csv :**"
   ]
  },
  {
   "cell_type": "code",
   "execution_count": 101,
   "metadata": {},
   "outputs": [],
   "source": [
    "# Reduce the length of the index by one\n",
    "adjusted_index = testID['id'][1:]\n",
    "\n",
    "gs_lasso_min_predict         = pd.DataFrame(np.exp(lasso.predict(XPredict)), index = adjusted_index)\n",
    "gs_lasso_min_predict.columns = ['price']\n",
    "gs_lasso_min_predict.to_csv('./kaggle_submissions/gs_lasso_predict.csv')"
   ]
  },
  {
   "cell_type": "markdown",
   "metadata": {},
   "source": [
    "- - -"
   ]
  },
  {
   "cell_type": "markdown",
   "metadata": {},
   "source": [
    "<p><a name=\"elastic\"></a></p>\n",
    "## 4. ELASTIC NET\n",
    "<a href=\"#home\">BACK TO THE TOP</a>"
   ]
  },
  {
   "cell_type": "markdown",
   "metadata": {},
   "source": [
    "**Setting a range of penalty hyperparameter, lambda (alpha) & tuning hyperparameter, rho(l1_ratio):**"
   ]
  },
  {
   "cell_type": "code",
   "execution_count": 93,
   "metadata": {},
   "outputs": [],
   "source": [
    "elastic_alpharange = np.logspace(-4,2,1000)\n",
    "rhorange         = np.linspace(0.5, 0.99, 10)"
   ]
  },
  {
   "cell_type": "markdown",
   "metadata": {},
   "source": [
    "**Creating empty lists to append scores and coefficients per iteration over lambda:**"
   ]
  },
  {
   "cell_type": "markdown",
   "metadata": {},
   "source": [
    "**Using complete training set (no split) to train model using GridSearchCV function:**"
   ]
  },
  {
   "cell_type": "code",
   "execution_count": 94,
   "metadata": {},
   "outputs": [
    {
     "data": {
      "text/plain": [
       "ElasticNetCV(alphas=array([1.00000000e-04, 1.01392541e-04, 1.02804473e-04, 1.04236067e-04,\n",
       "       1.05687597e-04, 1.07159340e-04, 1.08651577e-04, 1.10164595e-04,\n",
       "       1.11698682e-04, 1.13254132e-04, 1.14831241e-04, 1.16430313e-04,\n",
       "       1.18051653e-04, 1.19695570e-04, 1.21362380e-04, 1.23052400e-04,\n",
       "       1.24765955e-04, 1.26503372e-04, 1.28264983e-04, 1.30051125e-04,\n",
       "       1.31862140e-04, 1.336983...\n",
       "       8.12661920e+01, 8.23978568e+01, 8.35452806e+01, 8.47086827e+01,\n",
       "       8.58882856e+01, 8.70843150e+01, 8.82969996e+01, 8.95265713e+01,\n",
       "       9.07732653e+01, 9.20373200e+01, 9.33189772e+01, 9.46184819e+01,\n",
       "       9.59360829e+01, 9.72720319e+01, 9.86265846e+01, 1.00000000e+02]),\n",
       "             l1_ratio=array([0.5       , 0.55444444, 0.60888889, 0.66333333, 0.71777778,\n",
       "       0.77222222, 0.82666667, 0.88111111, 0.93555556, 0.99      ]))"
      ]
     },
     "execution_count": 94,
     "metadata": {},
     "output_type": "execute_result"
    }
   ],
   "source": [
    "elasticCV = ElasticNetCV(alphas = elastic_alpharange, l1_ratio = rhorange)\n",
    "elasticCV.fit(X, y_log)"
   ]
  },
  {
   "cell_type": "code",
   "execution_count": 95,
   "metadata": {},
   "outputs": [
    {
     "data": {
      "text/plain": [
       "1.3369837418249453"
      ]
     },
     "execution_count": 95,
     "metadata": {},
     "output_type": "execute_result"
    }
   ],
   "source": [
    "elasticCV.alpha_"
   ]
  },
  {
   "cell_type": "code",
   "execution_count": 96,
   "metadata": {},
   "outputs": [
    {
     "data": {
      "text/plain": [
       "0.5"
      ]
     },
     "execution_count": 96,
     "metadata": {},
     "output_type": "execute_result"
    }
   ],
   "source": [
    "elasticCV.l1_ratio_"
   ]
  },
  {
   "cell_type": "code",
   "execution_count": 97,
   "metadata": {},
   "outputs": [],
   "source": [
    "# list(elasticCV.alphas_).index(0.0006120498372476703)\n",
    "# np.mean(elasticCV.mse_path_[-1,:,:], axis=1).shape"
   ]
  },
  {
   "cell_type": "markdown",
   "metadata": {},
   "source": [
    "**Using best Lambda produced above to predict SalePrice values on test data set:**"
   ]
  },
  {
   "cell_type": "code",
   "execution_count": 98,
   "metadata": {},
   "outputs": [
    {
     "name": "stdout",
     "output_type": "stream",
     "text": [
      "ElasticNetCV(alphas=1.3369837418249453)\n"
     ]
    }
   ],
   "source": [
    "elasticCV.set_params(alphas = elasticCV.alpha_, l1_ratio = elasticCV.l1_ratio_)\n",
    "print(elasticCV)"
   ]
  },
  {
   "cell_type": "markdown",
   "metadata": {},
   "source": [
    "**Printing .csv:**"
   ]
  },
  {
   "cell_type": "code",
   "execution_count": 100,
   "metadata": {},
   "outputs": [],
   "source": [
    "# Reduce the length of the index by one\n",
    "adjusted_index = testID['id'][1:]\n",
    "\n",
    "elasticCV_min_predict         = pd.DataFrame(np.exp(elasticCV.predict(XPredict)), index = adjusted_index)\n",
    "elasticCV_min_predict.columns = ['price']\n",
    "elasticCV_min_predict.to_csv('./kaggle_submissions/elasticCV_predict.csv')"
   ]
  },
  {
   "cell_type": "code",
   "execution_count": 3,
   "metadata": {
    "scrolled": true
   },
   "outputs": [
    {
     "name": "stdout",
     "output_type": "stream",
     "text": [
      "15154\n"
     ]
    }
   ],
   "source": [
    "import pandas as pd\n",
    "\n",
    "# List of file paths\n",
    "file_paths = ['./kaggle_submissions/gs_ridge_predict.csv', './kaggle_submissions/gs_lasso_predict.csv', './kaggle_submissions/elasticCV_predict.csv']\n",
    "\n",
    "# Initialize an empty dictionary to store price values for each ID\n",
    "price_dict = {}\n",
    "\n",
    "# Read and process each file\n",
    "for file_path in file_paths:\n",
    "    # Read the CSV file\n",
    "    df = pd.read_csv(file_path)\n",
    "    \n",
    "    # Iterate over each row and calculate the average price for each ID\n",
    "    for _, row in df.iterrows():\n",
    "        id_value = row['id']\n",
    "        price_value = row['price']\n",
    "        \n",
    "        if id_value in price_dict:\n",
    "            price_dict[id_value].append(price_value)\n",
    "        else:\n",
    "            price_dict[id_value] = [price_value]\n",
    "\n",
    "# Calculate the average price for each ID\n",
    "average_prices = []\n",
    "for id_value, prices in price_dict.items():\n",
    "    average_price = sum(prices) / len(prices)\n",
    "    average_prices.append(average_price)\n",
    "\n",
    "# Print the average prices\n",
    "print(len(average_prices))"
   ]
  },
  {
   "cell_type": "code",
   "execution_count": null,
   "metadata": {},
   "outputs": [],
   "source": []
  },
  {
   "cell_type": "markdown",
   "metadata": {},
   "source": [
    "- - -"
   ]
  }
 ],
 "metadata": {
  "kernelspec": {
   "display_name": "Python 3 (ipykernel)",
   "language": "python",
   "name": "python3"
  },
  "language_info": {
   "codemirror_mode": {
    "name": "ipython",
    "version": 3
   },
   "file_extension": ".py",
   "mimetype": "text/x-python",
   "name": "python",
   "nbconvert_exporter": "python",
   "pygments_lexer": "ipython3",
   "version": "3.9.12"
  }
 },
 "nbformat": 4,
 "nbformat_minor": 2
}
